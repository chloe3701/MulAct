{
 "cells": [
  {
   "cell_type": "code",
   "execution_count": 1,
   "metadata": {},
   "outputs": [],
   "source": [
    "# Imports\n",
    "from mulact.data.case_study import declare_study\n",
    "from mulact.model.pipeline import init_model"
   ]
  },
  {
   "cell_type": "code",
   "execution_count": 2,
   "metadata": {},
   "outputs": [],
   "source": [
    "case_study = declare_study(time_horizon=1)"
   ]
  },
  {
   "cell_type": "code",
   "execution_count": 3,
   "metadata": {},
   "outputs": [
    {
     "name": "stdout",
     "output_type": "stream",
     "text": [
      "ERROR: Rule failed when generating expression for Constraint\n",
      "C_load_satisfaction with index ('P1_electrolyse(avec PV)', 0): KeyError:\n",
      "\"Index '('C1_industriel', 'P1_electrolyse(avec PV)', 0)' is not valid for\n",
      "indexed component 'Q_H2_vendu'\"\n",
      "ERROR: Constructing component 'C_load_satisfaction' from data=None failed:\n",
      "        KeyError: \"Index '('C1_industriel', 'P1_electrolyse(avec PV)', 0)' is\n",
      "        not valid for indexed component 'Q_H2_vendu'\"\n"
     ]
    },
    {
     "ename": "KeyError",
     "evalue": "\"Index '('C1_industriel', 'P1_electrolyse(avec PV)', 0)' is not valid for indexed component 'Q_H2_vendu'\"",
     "output_type": "error",
     "traceback": [
      "\u001b[31m---------------------------------------------------------------------------\u001b[39m",
      "\u001b[31mKeyError\u001b[39m                                  Traceback (most recent call last)",
      "\u001b[36mCell\u001b[39m\u001b[36m \u001b[39m\u001b[32mIn[3]\u001b[39m\u001b[32m, line 1\u001b[39m\n\u001b[32m----> \u001b[39m\u001b[32m1\u001b[39m \u001b[43minit_model\u001b[49m\u001b[43m(\u001b[49m\u001b[43mcase_study\u001b[49m\u001b[43m)\u001b[49m\n",
      "\u001b[36mFile \u001b[39m\u001b[32m~\\mulact\\src\\mulact\\model\\pipeline.py:33\u001b[39m, in \u001b[36minit_model\u001b[39m\u001b[34m(case_study)\u001b[39m\n\u001b[32m     30\u001b[39m declare_variables(model, Prod, Cons, Time, Energy)\n\u001b[32m     32\u001b[39m \u001b[38;5;66;03m# Declaration des contraintes du model\u001b[39;00m\n\u001b[32m---> \u001b[39m\u001b[32m33\u001b[39m \u001b[43mdeclare_constraints\u001b[49m\u001b[43m(\u001b[49m\u001b[43mmodel\u001b[49m\u001b[43m,\u001b[49m\u001b[43m \u001b[49m\u001b[43mCons\u001b[49m\u001b[43m,\u001b[49m\u001b[43m \u001b[49m\u001b[43mProd\u001b[49m\u001b[43m,\u001b[49m\u001b[43m \u001b[49m\u001b[43mTime\u001b[49m\u001b[43m,\u001b[49m\u001b[43m \u001b[49m\u001b[43mActors\u001b[49m\u001b[43m,\u001b[49m\u001b[43m \u001b[49m\u001b[43mnetwork\u001b[49m\u001b[43m.\u001b[49m\u001b[43mh2_market_prices\u001b[49m\u001b[43m)\u001b[49m\n\u001b[32m     35\u001b[39m model.pprint()\n",
      "\u001b[36mFile \u001b[39m\u001b[32m~\\mulact\\src\\mulact\\model\\constraints.py:14\u001b[39m, in \u001b[36mdeclare_constraints\u001b[39m\u001b[34m(model, Prod, Cons, Time, Actors, Prix_vente_H2)\u001b[39m\n\u001b[32m      6\u001b[39m \u001b[38;5;28;01mdef\u001b[39;00m\u001b[38;5;250m \u001b[39m\u001b[34mdeclare_constraints\u001b[39m(\n\u001b[32m      7\u001b[39m     model: pyo.ConcreteModel,\n\u001b[32m      8\u001b[39m     Prod: \u001b[38;5;28mlist\u001b[39m[\u001b[38;5;28mstr\u001b[39m],\n\u001b[32m   (...)\u001b[39m\u001b[32m     12\u001b[39m     Prix_vente_H2: \u001b[38;5;28mdict\u001b[39m[\u001b[38;5;28mstr\u001b[39m, \u001b[38;5;28mdict\u001b[39m[\u001b[38;5;28mstr\u001b[39m, \u001b[38;5;28mfloat\u001b[39m]],\n\u001b[32m     13\u001b[39m ) -> \u001b[38;5;28;01mNone\u001b[39;00m:\n\u001b[32m---> \u001b[39m\u001b[32m14\u001b[39m     \u001b[43mdeclare_constraint_consumer\u001b[49m\u001b[43m(\u001b[49m\n\u001b[32m     15\u001b[39m \u001b[43m        \u001b[49m\u001b[43mmodel\u001b[49m\u001b[43m=\u001b[49m\u001b[43mmodel\u001b[49m\u001b[43m,\u001b[49m\n\u001b[32m     16\u001b[39m \u001b[43m        \u001b[49m\u001b[43mCons\u001b[49m\u001b[43m=\u001b[49m\u001b[43mCons\u001b[49m\u001b[43m,\u001b[49m\n\u001b[32m     17\u001b[39m \u001b[43m        \u001b[49m\u001b[43mProd\u001b[49m\u001b[43m=\u001b[49m\u001b[43mProd\u001b[49m\u001b[43m,\u001b[49m\n\u001b[32m     18\u001b[39m \u001b[43m        \u001b[49m\u001b[43mTime\u001b[49m\u001b[43m=\u001b[49m\u001b[43mTime\u001b[49m\u001b[43m,\u001b[49m\n\u001b[32m     19\u001b[39m \u001b[43m        \u001b[49m\u001b[43mActors\u001b[49m\u001b[43m=\u001b[49m\u001b[43mActors\u001b[49m\u001b[43m,\u001b[49m\n\u001b[32m     20\u001b[39m \u001b[43m        \u001b[49m\u001b[43mPrix_vente_H2\u001b[49m\u001b[43m=\u001b[49m\u001b[43mPrix_vente_H2\u001b[49m\u001b[43m)\u001b[49m\n",
      "\u001b[36mFile \u001b[39m\u001b[32m~\\mulact\\src\\mulact\\model\\actors\\consumer.py:40\u001b[39m, in \u001b[36mdeclare_constraint_consumer\u001b[39m\u001b[34m(model, Cons, Prod, Time, Actors, Prix_vente_H2)\u001b[39m\n\u001b[32m     37\u001b[39m \u001b[38;5;28;01mdef\u001b[39;00m\u001b[38;5;250m \u001b[39m\u001b[34mC_load_satisfaction_rule\u001b[39m(m, j, t):\n\u001b[32m     38\u001b[39m     \u001b[38;5;28;01mreturn\u001b[39;00m \u001b[38;5;28msum\u001b[39m(m.Q_H2_vendu[i, j, t] \u001b[38;5;28;01mfor\u001b[39;00m i \u001b[38;5;129;01min\u001b[39;00m Prod) == Actors[j].internal_struct.demand_h2[t]\n\u001b[32m---> \u001b[39m\u001b[32m40\u001b[39m \u001b[43mmodel\u001b[49m\u001b[43m.\u001b[49m\u001b[43mC_load_satisfaction\u001b[49m = pyo.Constraint(\n\u001b[32m     41\u001b[39m     Cons, Time, rule=C_load_satisfaction_rule\n\u001b[32m     42\u001b[39m )\n\u001b[32m     44\u001b[39m \u001b[38;5;66;03m# Prix payé aux producteur (contrainte redondante avec la modélisation des producteurs)\u001b[39;00m\n\u001b[32m     45\u001b[39m \u001b[38;5;28;01mdef\u001b[39;00m\u001b[38;5;250m \u001b[39m\u001b[34mC_cost_is_mass_times_price_rule\u001b[39m(m, i, j, t):\n",
      "\u001b[36mFile \u001b[39m\u001b[32mc:\\Users\\CD282263\\mulact\\.venv\\Lib\\site-packages\\pyomo\\core\\base\\block.py:571\u001b[39m, in \u001b[36mBlockData.__setattr__\u001b[39m\u001b[34m(self, name, val)\u001b[39m\n\u001b[32m    566\u001b[39m \u001b[38;5;28;01mif\u001b[39;00m name \u001b[38;5;129;01mnot\u001b[39;00m \u001b[38;5;129;01min\u001b[39;00m \u001b[38;5;28mself\u001b[39m.\u001b[34m__dict__\u001b[39m:\n\u001b[32m    567\u001b[39m     \u001b[38;5;28;01mif\u001b[39;00m \u001b[38;5;28misinstance\u001b[39m(val, Component):\n\u001b[32m    568\u001b[39m         \u001b[38;5;66;03m#\u001b[39;00m\n\u001b[32m    569\u001b[39m         \u001b[38;5;66;03m# Pyomo components are added with the add_component method.\u001b[39;00m\n\u001b[32m    570\u001b[39m         \u001b[38;5;66;03m#\u001b[39;00m\n\u001b[32m--> \u001b[39m\u001b[32m571\u001b[39m         \u001b[38;5;28;43mself\u001b[39;49m\u001b[43m.\u001b[49m\u001b[43madd_component\u001b[49m\u001b[43m(\u001b[49m\u001b[43mname\u001b[49m\u001b[43m,\u001b[49m\u001b[43m \u001b[49m\u001b[43mval\u001b[49m\u001b[43m)\u001b[49m\n\u001b[32m    572\u001b[39m     \u001b[38;5;28;01melse\u001b[39;00m:\n\u001b[32m    573\u001b[39m         \u001b[38;5;66;03m#\u001b[39;00m\n\u001b[32m    574\u001b[39m         \u001b[38;5;66;03m# Other Python objects are added with the standard __setattr__\u001b[39;00m\n\u001b[32m    575\u001b[39m         \u001b[38;5;66;03m# method.\u001b[39;00m\n\u001b[32m    576\u001b[39m         \u001b[38;5;66;03m#\u001b[39;00m\n\u001b[32m    577\u001b[39m         \u001b[38;5;28msuper\u001b[39m(BlockData, \u001b[38;5;28mself\u001b[39m).\u001b[34m__setattr__\u001b[39m(name, val)\n",
      "\u001b[36mFile \u001b[39m\u001b[32mc:\\Users\\CD282263\\mulact\\.venv\\Lib\\site-packages\\pyomo\\core\\base\\block.py:1101\u001b[39m, in \u001b[36mBlockData.add_component\u001b[39m\u001b[34m(self, name, val)\u001b[39m\n\u001b[32m   1093\u001b[39m     logger.debug(\n\u001b[32m   1094\u001b[39m         \u001b[33m\"\u001b[39m\u001b[33mConstructing \u001b[39m\u001b[38;5;132;01m%s\u001b[39;00m\u001b[33m \u001b[39m\u001b[33m'\u001b[39m\u001b[38;5;132;01m%s\u001b[39;00m\u001b[33m'\u001b[39m\u001b[33m on \u001b[39m\u001b[38;5;132;01m%s\u001b[39;00m\u001b[33m from data=\u001b[39m\u001b[38;5;132;01m%s\u001b[39;00m\u001b[33m\"\u001b[39m,\n\u001b[32m   1095\u001b[39m         val.\u001b[34m__class__\u001b[39m.\u001b[34m__name__\u001b[39m,\n\u001b[32m   (...)\u001b[39m\u001b[32m   1098\u001b[39m         \u001b[38;5;28mstr\u001b[39m(data),\n\u001b[32m   1099\u001b[39m     )\n\u001b[32m   1100\u001b[39m \u001b[38;5;28;01mtry\u001b[39;00m:\n\u001b[32m-> \u001b[39m\u001b[32m1101\u001b[39m     \u001b[43mval\u001b[49m\u001b[43m.\u001b[49m\u001b[43mconstruct\u001b[49m\u001b[43m(\u001b[49m\u001b[43mdata\u001b[49m\u001b[43m)\u001b[49m\n\u001b[32m   1102\u001b[39m \u001b[38;5;28;01mexcept\u001b[39;00m:\n\u001b[32m   1103\u001b[39m     err = sys.exc_info()[\u001b[32m1\u001b[39m]\n",
      "\u001b[36mFile \u001b[39m\u001b[32mc:\\Users\\CD282263\\mulact\\.venv\\Lib\\site-packages\\pyomo\\core\\base\\constraint.py:722\u001b[39m, in \u001b[36mConstraint.construct\u001b[39m\u001b[34m(self, data)\u001b[39m\n\u001b[32m    720\u001b[39m         \u001b[38;5;66;03m# Bypass the index validation and create the member directly\u001b[39;00m\n\u001b[32m    721\u001b[39m         \u001b[38;5;28;01mfor\u001b[39;00m index \u001b[38;5;129;01min\u001b[39;00m \u001b[38;5;28mself\u001b[39m.index_set():\n\u001b[32m--> \u001b[39m\u001b[32m722\u001b[39m             \u001b[38;5;28mself\u001b[39m._setitem_when_not_present(index, \u001b[43mrule\u001b[49m\u001b[43m(\u001b[49m\u001b[43mblock\u001b[49m\u001b[43m,\u001b[49m\u001b[43m \u001b[49m\u001b[43mindex\u001b[49m\u001b[43m)\u001b[49m)\n\u001b[32m    723\u001b[39m \u001b[38;5;28;01mexcept\u001b[39;00m \u001b[38;5;167;01mException\u001b[39;00m:\n\u001b[32m    724\u001b[39m     err = sys.exc_info()[\u001b[32m1\u001b[39m]\n",
      "\u001b[36mFile \u001b[39m\u001b[32mc:\\Users\\CD282263\\mulact\\.venv\\Lib\\site-packages\\pyomo\\core\\base\\initializer.py:349\u001b[39m, in \u001b[36mIndexedCallInitializer.__call__\u001b[39m\u001b[34m(self, parent, idx)\u001b[39m\n\u001b[32m    343\u001b[39m \u001b[38;5;28;01mdef\u001b[39;00m\u001b[38;5;250m \u001b[39m\u001b[34m__call__\u001b[39m(\u001b[38;5;28mself\u001b[39m, parent, idx):\n\u001b[32m    344\u001b[39m     \u001b[38;5;66;03m# Note: this is called by a component using data from a Set (so\u001b[39;00m\n\u001b[32m    345\u001b[39m     \u001b[38;5;66;03m# any tuple-like type should have already been checked and\u001b[39;00m\n\u001b[32m    346\u001b[39m     \u001b[38;5;66;03m# converted to a tuple; or flattening is turned off and it is\u001b[39;00m\n\u001b[32m    347\u001b[39m     \u001b[38;5;66;03m# the user's responsibility to sort things out.\u001b[39;00m\n\u001b[32m    348\u001b[39m     \u001b[38;5;28;01mif\u001b[39;00m idx.\u001b[34m__class__\u001b[39m \u001b[38;5;129;01mis\u001b[39;00m \u001b[38;5;28mtuple\u001b[39m:\n\u001b[32m--> \u001b[39m\u001b[32m349\u001b[39m         \u001b[38;5;28;01mreturn\u001b[39;00m \u001b[38;5;28;43mself\u001b[39;49m\u001b[43m.\u001b[49m\u001b[43m_fcn\u001b[49m\u001b[43m(\u001b[49m\u001b[43mparent\u001b[49m\u001b[43m,\u001b[49m\u001b[43m \u001b[49m\u001b[43m*\u001b[49m\u001b[43midx\u001b[49m\u001b[43m)\u001b[49m\n\u001b[32m    350\u001b[39m     \u001b[38;5;28;01melse\u001b[39;00m:\n\u001b[32m    351\u001b[39m         \u001b[38;5;28;01mreturn\u001b[39;00m \u001b[38;5;28mself\u001b[39m._fcn(parent, idx)\n",
      "\u001b[36mFile \u001b[39m\u001b[32m~\\mulact\\src\\mulact\\model\\actors\\consumer.py:38\u001b[39m, in \u001b[36mdeclare_constraint_consumer.<locals>.C_load_satisfaction_rule\u001b[39m\u001b[34m(m, j, t)\u001b[39m\n\u001b[32m     37\u001b[39m \u001b[38;5;28;01mdef\u001b[39;00m\u001b[38;5;250m \u001b[39m\u001b[34mC_load_satisfaction_rule\u001b[39m(m, j, t):\n\u001b[32m---> \u001b[39m\u001b[32m38\u001b[39m     \u001b[38;5;28;01mreturn\u001b[39;00m \u001b[38;5;28;43msum\u001b[39;49m\u001b[43m(\u001b[49m\u001b[43mm\u001b[49m\u001b[43m.\u001b[49m\u001b[43mQ_H2_vendu\u001b[49m\u001b[43m[\u001b[49m\u001b[43mi\u001b[49m\u001b[43m,\u001b[49m\u001b[43m \u001b[49m\u001b[43mj\u001b[49m\u001b[43m,\u001b[49m\u001b[43m \u001b[49m\u001b[43mt\u001b[49m\u001b[43m]\u001b[49m\u001b[43m \u001b[49m\u001b[38;5;28;43;01mfor\u001b[39;49;00m\u001b[43m \u001b[49m\u001b[43mi\u001b[49m\u001b[43m \u001b[49m\u001b[38;5;129;43;01min\u001b[39;49;00m\u001b[43m \u001b[49m\u001b[43mProd\u001b[49m\u001b[43m)\u001b[49m == Actors[j].internal_struct.demand_h2[t]\n",
      "\u001b[36mFile \u001b[39m\u001b[32m~\\mulact\\src\\mulact\\model\\actors\\consumer.py:38\u001b[39m, in \u001b[36m<genexpr>\u001b[39m\u001b[34m(.0)\u001b[39m\n\u001b[32m     37\u001b[39m \u001b[38;5;28;01mdef\u001b[39;00m\u001b[38;5;250m \u001b[39m\u001b[34mC_load_satisfaction_rule\u001b[39m(m, j, t):\n\u001b[32m---> \u001b[39m\u001b[32m38\u001b[39m     \u001b[38;5;28;01mreturn\u001b[39;00m \u001b[38;5;28msum\u001b[39m(\u001b[43mm\u001b[49m\u001b[43m.\u001b[49m\u001b[43mQ_H2_vendu\u001b[49m\u001b[43m[\u001b[49m\u001b[43mi\u001b[49m\u001b[43m,\u001b[49m\u001b[43m \u001b[49m\u001b[43mj\u001b[49m\u001b[43m,\u001b[49m\u001b[43m \u001b[49m\u001b[43mt\u001b[49m\u001b[43m]\u001b[49m \u001b[38;5;28;01mfor\u001b[39;00m i \u001b[38;5;129;01min\u001b[39;00m Prod) == Actors[j].internal_struct.demand_h2[t]\n",
      "\u001b[36mFile \u001b[39m\u001b[32mc:\\Users\\CD282263\\mulact\\.venv\\Lib\\site-packages\\pyomo\\core\\base\\var.py:1001\u001b[39m, in \u001b[36mIndexedVar.__getitem__\u001b[39m\u001b[34m(self, args)\u001b[39m\n\u001b[32m    999\u001b[39m \u001b[38;5;28;01mdef\u001b[39;00m\u001b[38;5;250m \u001b[39m\u001b[34m__getitem__\u001b[39m(\u001b[38;5;28mself\u001b[39m, args) -> VarData:\n\u001b[32m   1000\u001b[39m     \u001b[38;5;28;01mtry\u001b[39;00m:\n\u001b[32m-> \u001b[39m\u001b[32m1001\u001b[39m         \u001b[38;5;28;01mreturn\u001b[39;00m \u001b[38;5;28;43msuper\u001b[39;49m\u001b[43m(\u001b[49m\u001b[43m)\u001b[49m\u001b[43m.\u001b[49m\u001b[34;43m__getitem__\u001b[39;49m\u001b[43m(\u001b[49m\u001b[43margs\u001b[49m\u001b[43m)\u001b[49m\n\u001b[32m   1002\u001b[39m     \u001b[38;5;28;01mexcept\u001b[39;00m \u001b[38;5;167;01mRuntimeError\u001b[39;00m:\n\u001b[32m   1003\u001b[39m         tmp = args \u001b[38;5;28;01mif\u001b[39;00m args.\u001b[34m__class__\u001b[39m \u001b[38;5;129;01mis\u001b[39;00m \u001b[38;5;28mtuple\u001b[39m \u001b[38;5;28;01melse\u001b[39;00m (args,)\n",
      "\u001b[36mFile \u001b[39m\u001b[32mc:\\Users\\CD282263\\mulact\\.venv\\Lib\\site-packages\\pyomo\\core\\base\\indexed_component.py:648\u001b[39m, in \u001b[36mIndexedComponent.__getitem__\u001b[39m\u001b[34m(self, index)\u001b[39m\n\u001b[32m    646\u001b[39m \u001b[38;5;28;01mif\u001b[39;00m \u001b[38;5;28misinstance\u001b[39m(index, EXPR.GetItemExpression):\n\u001b[32m    647\u001b[39m     \u001b[38;5;28;01mreturn\u001b[39;00m index\n\u001b[32m--> \u001b[39m\u001b[32m648\u001b[39m validated_index = \u001b[38;5;28;43mself\u001b[39;49m\u001b[43m.\u001b[49m\u001b[43m_validate_index\u001b[49m\u001b[43m(\u001b[49m\u001b[43mindex\u001b[49m\u001b[43m)\u001b[49m\n\u001b[32m    649\u001b[39m \u001b[38;5;28;01mif\u001b[39;00m validated_index \u001b[38;5;129;01mis\u001b[39;00m \u001b[38;5;129;01mnot\u001b[39;00m index:\n\u001b[32m    650\u001b[39m     index = validated_index\n",
      "\u001b[36mFile \u001b[39m\u001b[32mc:\\Users\\CD282263\\mulact\\.venv\\Lib\\site-packages\\pyomo\\core\\base\\indexed_component.py:870\u001b[39m, in \u001b[36mIndexedComponent._validate_index\u001b[39m\u001b[34m(self, idx)\u001b[39m\n\u001b[32m    863\u001b[39m     \u001b[38;5;28;01mraise\u001b[39;00m \u001b[38;5;167;01mKeyError\u001b[39;00m(\n\u001b[32m    864\u001b[39m         \u001b[33m\"\u001b[39m\u001b[33mCannot treat the scalar component \u001b[39m\u001b[33m'\u001b[39m\u001b[38;5;132;01m%s\u001b[39;00m\u001b[33m'\u001b[39m\u001b[33m \u001b[39m\u001b[33m\"\u001b[39m\n\u001b[32m    865\u001b[39m         \u001b[33m\"\u001b[39m\u001b[33mas an indexed component\u001b[39m\u001b[33m\"\u001b[39m % (\u001b[38;5;28mself\u001b[39m.name,)\n\u001b[32m    866\u001b[39m     )\n\u001b[32m    867\u001b[39m \u001b[38;5;66;03m#\u001b[39;00m\n\u001b[32m    868\u001b[39m \u001b[38;5;66;03m# Raise an exception\u001b[39;00m\n\u001b[32m    869\u001b[39m \u001b[38;5;66;03m#\u001b[39;00m\n\u001b[32m--> \u001b[39m\u001b[32m870\u001b[39m \u001b[38;5;28;01mraise\u001b[39;00m \u001b[38;5;167;01mKeyError\u001b[39;00m(\n\u001b[32m    871\u001b[39m     \u001b[33m\"\u001b[39m\u001b[33mIndex \u001b[39m\u001b[33m'\u001b[39m\u001b[38;5;132;01m%s\u001b[39;00m\u001b[33m'\u001b[39m\u001b[33m is not valid for indexed component \u001b[39m\u001b[33m'\u001b[39m\u001b[38;5;132;01m%s\u001b[39;00m\u001b[33m'\u001b[39m\u001b[33m\"\u001b[39m\n\u001b[32m    872\u001b[39m     % (normalized_idx, \u001b[38;5;28mself\u001b[39m.name)\n\u001b[32m    873\u001b[39m )\n",
      "\u001b[31mKeyError\u001b[39m: \"Index '('C1_industriel', 'P1_electrolyse(avec PV)', 0)' is not valid for indexed component 'Q_H2_vendu'\""
     ]
    }
   ],
   "source": [
    "init_model(case_study)"
   ]
  }
 ],
 "metadata": {
  "kernelspec": {
   "display_name": ".venv",
   "language": "python",
   "name": "python3"
  },
  "language_info": {
   "codemirror_mode": {
    "name": "ipython",
    "version": 3
   },
   "file_extension": ".py",
   "mimetype": "text/x-python",
   "name": "python",
   "nbconvert_exporter": "python",
   "pygments_lexer": "ipython3",
   "version": "3.12.1"
  }
 },
 "nbformat": 4,
 "nbformat_minor": 2
}
